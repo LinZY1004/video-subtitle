
from google.colab import files
import os
with open('/content/test0.txt','w',encoding='utf-8') as file_obj:
  file_obj.write("test") 
with open('/content/test1.txt','w',encoding='utf-8') as file_obj:
  file_obj.write("test") 
for i in range(2):
  files.download("/content/test"+str(i)+".txt")
