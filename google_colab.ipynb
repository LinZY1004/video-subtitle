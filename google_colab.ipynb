{
 "cells": [
  {
   "cell_type": "markdown",
   "metadata": {
    "id": "_85O6zgPyhto",
    "pycharm": {
     "name": "#%% md\n"
    }
   },
   "source": [
    "# 安装依赖"
   ]
  },
  {
   "cell_type": "code",
   "execution_count": null,
   "metadata": {
    "id": "3-GdvmaGl-aF",
    "pycharm": {
     "name": "#%%\n"
    }
   },
   "outputs": [],
   "source": [
    "!pip install wget\n",
    "!git clone https://github.com/LinZY1004/video-subtitle.git\n",
    "!pip install -r /content/video-subtitle/requirements_gpu.txt\n",
    "!pip install paddlepaddle-gpu==2.1.0\n",
    "import os\n",
    "os.kill(os.getpid(), 9)"
   ]
  },
  {
   "cell_type": "markdown",
   "metadata": {},
   "source": [
    "# 上传json文件"
   ]
  },
  {
   "cell_type": "markdown",
   "metadata": {
    "id": "SGb0i3tPyw9Q",
    "pycharm": {
     "name": "#%% md\n"
    }
   },
   "source": [
    "# 运行程序"
   ]
  },
  {
   "cell_type": "code",
   "execution_count": null,
   "metadata": {
    "id": "B2MPjMOOgGbD",
    "pycharm": {
     "name": "#%%\n"
    }
   },
   "outputs": [],
   "source": [
    "!python /content/video-subtitle/backend/main.py\n",
    "!zip -q -r /content/materials.zip /materials\n",
    "from google.colab import files\n",
    "files.download('/content/materials.zip')"
   ]
  },
  {
   "cell_type": "code",
   "execution_count": null,
   "metadata": {},
   "outputs": [],
   "source": [
    "!rm -rf /content/video-subtitle\n",
    "!git clone https://github.com/LinZY1004/video-subtitle.git"
   ]
  }
 ],
 "metadata": {
  "accelerator": "GPU",
  "colab": {
   "collapsed_sections": [],
   "name": "video-subtitle.ipynb",
   "provenance": []
  },
  "kernelspec": {
   "display_name": "Python 3.7.6 ('base')",
   "language": "python",
   "name": "python3"
  },
  "language_info": {
   "codemirror_mode": {
    "name": "ipython",
    "version": 3
   },
   "file_extension": ".py",
   "mimetype": "text/x-python",
   "name": "python",
   "nbconvert_exporter": "python",
   "pygments_lexer": "ipython3",
   "version": "3.7.6"
  },
  "vscode": {
   "interpreter": {
    "hash": "a0f669ea42a4dcea88d385f8f9b4c3d9b966e24234758831d1dbfdac925619a2"
   }
  }
 },
 "nbformat": 4,
 "nbformat_minor": 1
}
